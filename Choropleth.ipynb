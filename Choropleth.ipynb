{
 "cells": [
  {
   "cell_type": "code",
   "execution_count": 3,
   "metadata": {},
   "outputs": [],
   "source": [
    "#Import Dependencies\n",
    "import requests\n",
    "import http.client\n",
    "import json\n",
    "import geojson\n",
    "import time"
   ]
  },
  {
   "cell_type": "code",
   "execution_count": 4,
   "metadata": {
    "tags": []
   },
   "outputs": [
    {
     "output_type": "stream",
     "name": "stdout",
     "text": [
      "{\"success\":true,\"result\":[{\"currency\":\"usd\",\"name\":\"Alaska\",\"gasoline\":\"2.510\",\"midGrade\":\"2.641\",\"premium\":\"2.810\",\"diesel\":\"2.403\"},{\"currency\":\"usd\",\"name\":\"Alabama\",\"gasoline\":\"1.905\",\"midGrade\":\"2.237\",\"premium\":\"2.567\",\"diesel\":\"2.239\"},{\"currency\":\"usd\",\"name\":\"Arkansas\",\"gasoline\":\"1.881\",\"midGrade\":\"2.185\",\"premium\":\"2.483\",\"diesel\":\"2.134\"},{\"currency\":\"usd\",\"name\":\"Arizona\",\"gasoline\":\"2.264\",\"midGrade\":\"2.553\",\"premium\":\"2.798\",\"diesel\":\"2.416\"},{\"currency\":\"usd\",\"name\":\"California\",\"gasoline\":\"3.197\",\"midGrade\":\"3.382\",\"premium\":\"3.502\",\"diesel\":\"3.339\"},{\"currency\":\"usd\",\"name\":\"Colorado\",\"gasoline\":\"2.247\",\"midGrade\":\"2.560\",\"premium\":\"2.842\",\"diesel\":\"2.178\"},{\"currency\":\"usd\",\"name\":\"Connecticut\",\"gasoline\":\"2.178\",\"midGrade\":\"2.540\",\"premium\":\"2.766\",\"diesel\":\"2.686\"},{\"currency\":\"usd\",\"name\":\"District of Columbia\",\"gasoline\":\"2.358\",\"midGrade\":\"2.863\",\"premium\":\"2.995\",\"diesel\":\"2.823\"},{\"currency\":\"usd\",\"name\":\"Delaware\",\"gasoline\":\"2.318\",\"midGrade\":\"2.716\",\"premium\":\"2.942\",\"diesel\":\"2.314\"},{\"currency\":\"usd\",\"name\":\"Florida\",\"gasoline\":\"2.129\",\"midGrade\":\"2.485\",\"premium\":\"2.778\",\"diesel\":\"2.314\"},{\"currency\":\"usd\",\"name\":\"Georgia\",\"gasoline\":\"2.005\",\"midGrade\":\"2.344\",\"premium\":\"2.653\",\"diesel\":\"2.429\"},{\"currency\":\"usd\",\"name\":\"Hawaii\",\"gasoline\":\"3.271\",\"midGrade\":\"3.454\",\"premium\":\"3.659\",\"diesel\":\"4.043\"},{\"currency\":\"usd\",\"name\":\"Iowa\",\"gasoline\":\"2.055\",\"midGrade\":\"2.226\",\"premium\":\"2.593\",\"diesel\":\"2.181\"},{\"currency\":\"usd\",\"name\":\"Idaho\",\"gasoline\":\"2.366\",\"midGrade\":\"2.529\",\"premium\":\"2.718\",\"diesel\":\"2.349\"},{\"currency\":\"usd\",\"name\":\"Illinois\",\"gasoline\":\"2.260\",\"midGrade\":\"2.606\",\"premium\":\"3.005\",\"diesel\":\"2.384\"},{\"currency\":\"usd\",\"name\":\"Indiana\",\"gasoline\":\"2.074\",\"midGrade\":\"2.400\",\"premium\":\"2.723\",\"diesel\":\"2.426\"},{\"currency\":\"usd\",\"name\":\"Kansas\",\"gasoline\":\"1.945\",\"midGrade\":\"2.203\",\"premium\":\"2.433\",\"diesel\":\"2.107\"},{\"currency\":\"usd\",\"name\":\"Kentucky\",\"gasoline\":\"1.960\",\"midGrade\":\"2.291\",\"premium\":\"2.599\",\"diesel\":\"2.222\"},{\"currency\":\"usd\",\"name\":\"Louisiana\",\"gasoline\":\"1.903\",\"midGrade\":\"2.219\",\"premium\":\"2.528\",\"diesel\":\"2.206\"},{\"currency\":\"usd\",\"name\":\"Massachusetts\",\"gasoline\":\"2.112\",\"midGrade\":\"2.467\",\"premium\":\"2.682\",\"diesel\":\"2.557\"},{\"currency\":\"usd\",\"name\":\"Maryland\",\"gasoline\":\"2.309\",\"midGrade\":\"2.746\",\"premium\":\"2.987\",\"diesel\":\"2.412\"},{\"currency\":\"usd\",\"name\":\"Maine\",\"gasoline\":\"2.173\",\"midGrade\":\"2.492\",\"premium\":\"2.752\",\"diesel\":\"2.490\"},{\"currency\":\"usd\",\"name\":\"Michigan\",\"gasoline\":\"2.067\",\"midGrade\":\"2.394\",\"premium\":\"2.730\",\"diesel\":\"2.372\"},{\"currency\":\"usd\",\"name\":\"Minnesota\",\"gasoline\":\"2.009\",\"midGrade\":\"2.247\",\"premium\":\"2.550\",\"diesel\":\"2.300\"},{\"currency\":\"usd\",\"name\":\"Missouri\",\"gasoline\":\"1.854\",\"midGrade\":\"2.108\",\"premium\":\"2.373\",\"diesel\":\"1.992\"},{\"currency\":\"usd\",\"name\":\"Mississippi\",\"gasoline\":\"1.852\",\"midGrade\":\"2.159\",\"premium\":\"2.486\",\"diesel\":\"2.074\"},{\"currency\":\"usd\",\"name\":\"Montana\",\"gasoline\":\"2.246\",\"midGrade\":\"2.506\",\"premium\":\"2.756\",\"diesel\":\"2.256\"},{\"currency\":\"usd\",\"name\":\"North Carolina\",\"gasoline\":\"2.016\",\"midGrade\":\"2.356\",\"premium\":\"2.686\",\"diesel\":\"2.300\"},{\"currency\":\"usd\",\"name\":\"North Dakota\",\"gasoline\":\"2.074\",\"midGrade\":\"2.290\",\"premium\":\"2.484\",\"diesel\":\"2.178\"},{\"currency\":\"usd\",\"name\":\"Nebraska\",\"gasoline\":\"2.131\",\"midGrade\":\"2.257\",\"premium\":\"2.580\",\"diesel\":\"2.190\"},{\"currency\":\"usd\",\"name\":\"New Hampshire\",\"gasoline\":\"2.071\",\"midGrade\":\"2.452\",\"premium\":\"2.721\",\"diesel\":\"2.473\"},{\"currency\":\"usd\",\"name\":\"New Jersey\",\"gasoline\":\"2.247\",\"midGrade\":\"2.621\",\"premium\":\"2.807\",\"diesel\":\"2.520\"},{\"currency\":\"usd\",\"name\":\"New Mexico\",\"gasoline\":\"2.027\",\"midGrade\":\"2.343\",\"premium\":\"2.588\",\"diesel\":\"2.289\"},{\"currency\":\"usd\",\"name\":\"Nevada\",\"gasoline\":\"2.634\",\"midGrade\":\"2.845\",\"premium\":\"3.025\",\"diesel\":\"2.588\"},{\"currency\":\"usd\",\"name\":\"New York\",\"gasoline\":\"2.252\",\"midGrade\":\"2.582\",\"premium\":\"2.812\",\"diesel\":\"2.778\"},{\"currency\":\"usd\",\"name\":\"Ohio\",\"gasoline\":\"2.030\",\"midGrade\":\"2.366\",\"premium\":\"2.699\",\"diesel\":\"2.382\"},{\"currency\":\"usd\",\"name\":\"Oklahoma\",\"gasoline\":\"1.887\",\"midGrade\":\"2.135\",\"premium\":\"2.340\",\"diesel\":\"1.990\"},{\"currency\":\"usd\",\"name\":\"Oregon\",\"gasoline\":\"2.591\",\"midGrade\":\"2.785\",\"premium\":\"2.961\",\"diesel\":\"2.578\"},{\"currency\":\"usd\",\"name\":\"Pennsylvania\",\"gasoline\":\"2.486\",\"midGrade\":\"2.799\",\"premium\":\"3.073\",\"diesel\":\"2.749\"},{\"currency\":\"usd\",\"name\":\"Rhode Island\",\"gasoline\":\"2.127\",\"midGrade\":\"2.549\",\"premium\":\"2.740\",\"diesel\":\"2.629\"},{\"currency\":\"usd\",\"name\":\"South Carolina\",\"gasoline\":\"1.918\",\"midGrade\":\"2.250\",\"premium\":\"2.567\",\"diesel\":\"2.152\"},{\"currency\":\"usd\",\"name\":\"South Dakota\",\"gasoline\":\"2.114\",\"midGrade\":\"2.233\",\"premium\":\"2.544\",\"diesel\":\"2.221\"},{\"currency\":\"usd\",\"name\":\"Tennessee\",\"gasoline\":\"1.936\",\"midGrade\":\"2.275\",\"premium\":\"2.601\",\"diesel\":\"2.278\"},{\"currency\":\"usd\",\"name\":\"Texas\",\"gasoline\":\"1.861\",\"midGrade\":\"2.194\",\"premium\":\"2.478\",\"diesel\":\"2.019\"},{\"currency\":\"usd\",\"name\":\"Utah\",\"gasoline\":\"2.404\",\"midGrade\":\"2.572\",\"premium\":\"2.736\",\"diesel\":\"2.359\"},{\"currency\":\"usd\",\"name\":\"Virginia\",\"gasoline\":\"2.081\",\"midGrade\":\"2.464\",\"premium\":\"2.755\",\"diesel\":\"2.330\"},{\"currency\":\"usd\",\"name\":\"Vermont\",\"gasoline\":\"2.153\",\"midGrade\":\"2.485\",\"premium\":\"2.764\",\"diesel\":\"2.497\"},{\"currency\":\"usd\",\"name\":\"Washington\",\"gasoline\":\"2.778\",\"midGrade\":\"2.997\",\"premium\":\"3.164\",\"diesel\":\"2.707\"},{\"currency\":\"usd\",\"name\":\"Wisconsin\",\"gasoline\":\"1.975\",\"midGrade\":\"2.317\",\"premium\":\"2.700\",\"diesel\":\"2.116\"},{\"currency\":\"usd\",\"name\":\"West Virginia\",\"gasoline\":\"2.199\",\"midGrade\":\"2.480\",\"premium\":\"2.768\",\"diesel\":\"2.371\"},{\"currency\":\"usd\",\"name\":\"Wyoming\",\"gasoline\":\"2.205\",\"midGrade\":\"2.422\",\"premium\":\"2.652\",\"diesel\":\"2.347\"}]}\n"
     ]
    }
   ],
   "source": [
    "import http.client\n",
    "\n",
    "conn = http.client.HTTPSConnection(\"api.collectapi.com\")\n",
    "\n",
    "headers = {\n",
    "    'content-type': \"application/json\",\n",
    "    'authorization': \"apikey 095qy5emUONDSAcb8TZFvG:0lLiUg1Hj1hxHS9mCEob3m\"\n",
    "    }\n",
    "\n",
    "conn.request(\"GET\", \"/gasPrice/allUsaPrice\", headers=headers)\n",
    "\n",
    "res = conn.getresponse()\n",
    "raw_data = res.read()\n",
    "\n",
    "print(raw_data.decode(\"utf-8\"))"
   ]
  },
  {
   "cell_type": "code",
   "execution_count": 5,
   "metadata": {
    "tags": []
   },
   "outputs": [
    {
     "output_type": "stream",
     "name": "stdout",
     "text": [
      "[{'currency': 'usd', 'name': 'Alaska', 'gasoline': '2.510', 'midGrade': '2.641', 'premium': '2.810', 'diesel': '2.403'}, {'currency': 'usd', 'name': 'Alabama', 'gasoline': '1.905', 'midGrade': '2.237', 'premium': '2.567', 'diesel': '2.239'}, {'currency': 'usd', 'name': 'Arkansas', 'gasoline': '1.881', 'midGrade': '2.185', 'premium': '2.483', 'diesel': '2.134'}, {'currency': 'usd', 'name': 'Arizona', 'gasoline': '2.264', 'midGrade': '2.553', 'premium': '2.798', 'diesel': '2.416'}, {'currency': 'usd', 'name': 'California', 'gasoline': '3.197', 'midGrade': '3.382', 'premium': '3.502', 'diesel': '3.339'}, {'currency': 'usd', 'name': 'Colorado', 'gasoline': '2.247', 'midGrade': '2.560', 'premium': '2.842', 'diesel': '2.178'}, {'currency': 'usd', 'name': 'Connecticut', 'gasoline': '2.178', 'midGrade': '2.540', 'premium': '2.766', 'diesel': '2.686'}, {'currency': 'usd', 'name': 'District of Columbia', 'gasoline': '2.358', 'midGrade': '2.863', 'premium': '2.995', 'diesel': '2.823'}, {'currency': 'usd', 'name': 'Delaware', 'gasoline': '2.318', 'midGrade': '2.716', 'premium': '2.942', 'diesel': '2.314'}, {'currency': 'usd', 'name': 'Florida', 'gasoline': '2.129', 'midGrade': '2.485', 'premium': '2.778', 'diesel': '2.314'}, {'currency': 'usd', 'name': 'Georgia', 'gasoline': '2.005', 'midGrade': '2.344', 'premium': '2.653', 'diesel': '2.429'}, {'currency': 'usd', 'name': 'Hawaii', 'gasoline': '3.271', 'midGrade': '3.454', 'premium': '3.659', 'diesel': '4.043'}, {'currency': 'usd', 'name': 'Iowa', 'gasoline': '2.055', 'midGrade': '2.226', 'premium': '2.593', 'diesel': '2.181'}, {'currency': 'usd', 'name': 'Idaho', 'gasoline': '2.366', 'midGrade': '2.529', 'premium': '2.718', 'diesel': '2.349'}, {'currency': 'usd', 'name': 'Illinois', 'gasoline': '2.260', 'midGrade': '2.606', 'premium': '3.005', 'diesel': '2.384'}, {'currency': 'usd', 'name': 'Indiana', 'gasoline': '2.074', 'midGrade': '2.400', 'premium': '2.723', 'diesel': '2.426'}, {'currency': 'usd', 'name': 'Kansas', 'gasoline': '1.945', 'midGrade': '2.203', 'premium': '2.433', 'diesel': '2.107'}, {'currency': 'usd', 'name': 'Kentucky', 'gasoline': '1.960', 'midGrade': '2.291', 'premium': '2.599', 'diesel': '2.222'}, {'currency': 'usd', 'name': 'Louisiana', 'gasoline': '1.903', 'midGrade': '2.219', 'premium': '2.528', 'diesel': '2.206'}, {'currency': 'usd', 'name': 'Massachusetts', 'gasoline': '2.112', 'midGrade': '2.467', 'premium': '2.682', 'diesel': '2.557'}, {'currency': 'usd', 'name': 'Maryland', 'gasoline': '2.309', 'midGrade': '2.746', 'premium': '2.987', 'diesel': '2.412'}, {'currency': 'usd', 'name': 'Maine', 'gasoline': '2.173', 'midGrade': '2.492', 'premium': '2.752', 'diesel': '2.490'}, {'currency': 'usd', 'name': 'Michigan', 'gasoline': '2.067', 'midGrade': '2.394', 'premium': '2.730', 'diesel': '2.372'}, {'currency': 'usd', 'name': 'Minnesota', 'gasoline': '2.009', 'midGrade': '2.247', 'premium': '2.550', 'diesel': '2.300'}, {'currency': 'usd', 'name': 'Missouri', 'gasoline': '1.854', 'midGrade': '2.108', 'premium': '2.373', 'diesel': '1.992'}, {'currency': 'usd', 'name': 'Mississippi', 'gasoline': '1.852', 'midGrade': '2.159', 'premium': '2.486', 'diesel': '2.074'}, {'currency': 'usd', 'name': 'Montana', 'gasoline': '2.246', 'midGrade': '2.506', 'premium': '2.756', 'diesel': '2.256'}, {'currency': 'usd', 'name': 'North Carolina', 'gasoline': '2.016', 'midGrade': '2.356', 'premium': '2.686', 'diesel': '2.300'}, {'currency': 'usd', 'name': 'North Dakota', 'gasoline': '2.074', 'midGrade': '2.290', 'premium': '2.484', 'diesel': '2.178'}, {'currency': 'usd', 'name': 'Nebraska', 'gasoline': '2.131', 'midGrade': '2.257', 'premium': '2.580', 'diesel': '2.190'}, {'currency': 'usd', 'name': 'New Hampshire', 'gasoline': '2.071', 'midGrade': '2.452', 'premium': '2.721', 'diesel': '2.473'}, {'currency': 'usd', 'name': 'New Jersey', 'gasoline': '2.247', 'midGrade': '2.621', 'premium': '2.807', 'diesel': '2.520'}, {'currency': 'usd', 'name': 'New Mexico', 'gasoline': '2.027', 'midGrade': '2.343', 'premium': '2.588', 'diesel': '2.289'}, {'currency': 'usd', 'name': 'Nevada', 'gasoline': '2.634', 'midGrade': '2.845', 'premium': '3.025', 'diesel': '2.588'}, {'currency': 'usd', 'name': 'New York', 'gasoline': '2.252', 'midGrade': '2.582', 'premium': '2.812', 'diesel': '2.778'}, {'currency': 'usd', 'name': 'Ohio', 'gasoline': '2.030', 'midGrade': '2.366', 'premium': '2.699', 'diesel': '2.382'}, {'currency': 'usd', 'name': 'Oklahoma', 'gasoline': '1.887', 'midGrade': '2.135', 'premium': '2.340', 'diesel': '1.990'}, {'currency': 'usd', 'name': 'Oregon', 'gasoline': '2.591', 'midGrade': '2.785', 'premium': '2.961', 'diesel': '2.578'}, {'currency': 'usd', 'name': 'Pennsylvania', 'gasoline': '2.486', 'midGrade': '2.799', 'premium': '3.073', 'diesel': '2.749'}, {'currency': 'usd', 'name': 'Rhode Island', 'gasoline': '2.127', 'midGrade': '2.549', 'premium': '2.740', 'diesel': '2.629'}, {'currency': 'usd', 'name': 'South Carolina', 'gasoline': '1.918', 'midGrade': '2.250', 'premium': '2.567', 'diesel': '2.152'}, {'currency': 'usd', 'name': 'South Dakota', 'gasoline': '2.114', 'midGrade': '2.233', 'premium': '2.544', 'diesel': '2.221'}, {'currency': 'usd', 'name': 'Tennessee', 'gasoline': '1.936', 'midGrade': '2.275', 'premium': '2.601', 'diesel': '2.278'}, {'currency': 'usd', 'name': 'Texas', 'gasoline': '1.861', 'midGrade': '2.194', 'premium': '2.478', 'diesel': '2.019'}, {'currency': 'usd', 'name': 'Utah', 'gasoline': '2.404', 'midGrade': '2.572', 'premium': '2.736', 'diesel': '2.359'}, {'currency': 'usd', 'name': 'Virginia', 'gasoline': '2.081', 'midGrade': '2.464', 'premium': '2.755', 'diesel': '2.330'}, {'currency': 'usd', 'name': 'Vermont', 'gasoline': '2.153', 'midGrade': '2.485', 'premium': '2.764', 'diesel': '2.497'}, {'currency': 'usd', 'name': 'Washington', 'gasoline': '2.778', 'midGrade': '2.997', 'premium': '3.164', 'diesel': '2.707'}, {'currency': 'usd', 'name': 'Wisconsin', 'gasoline': '1.975', 'midGrade': '2.317', 'premium': '2.700', 'diesel': '2.116'}, {'currency': 'usd', 'name': 'West Virginia', 'gasoline': '2.199', 'midGrade': '2.480', 'premium': '2.768', 'diesel': '2.371'}, {'currency': 'usd', 'name': 'Wyoming', 'gasoline': '2.205', 'midGrade': '2.422', 'premium': '2.652', 'diesel': '2.347'}]\n"
     ]
    }
   ],
   "source": [
    "#Converting the byte array by decoding and then loading through JSON\n",
    "gasPriceState_data = raw_data.decode('utf8')\n",
    "gasPriceState_data = json.loads(gasPriceState_data)\n",
    "gasPriceState_data = gasPriceState_data['result']\n",
    "print(gasPriceState_data)"
   ]
  },
  {
   "cell_type": "code",
   "execution_count": 6,
   "metadata": {},
   "outputs": [],
   "source": [
    "#Recieved fips ID for each state in order to change apply it into the gasPrice JSON dictionary by matching by state key\n",
    "States_fipsId = {\n",
    "'Alabama': '01',\n",
    "'Alaska': '02',\n",
    "'Arizona': '04',\n",
    "'Arkansas': '05',\n",
    "'California': '06',\n",
    "'Colorado': '08',\n",
    "'Connecticut': '09',\n",
    "'Delaware': '10',\n",
    "'District Of Columbia': '11',\n",
    "'Florida': '12',\n",
    "'Georgia': '13',\n",
    "'Hawaii': '15',\n",
    "'Idaho': '16',\n",
    "'Illinois': '17',\n",
    "'Indiana': '18',\n",
    "'Iowa': '19',\n",
    "'Kansas': '20',\n",
    "'Kentucky': '21',\n",
    "'Louisiana': '22',\n",
    "'Maine': '23',\n",
    "'Maryland': '24',\n",
    "'Massachusetts': '25',\n",
    "'Michigan': '26',\n",
    "'Minnesota': '27',\n",
    "'Mississippi': '28',\n",
    "'Missouri': '29',\n",
    "'Montana': '30',\n",
    "'Nebraska': '31',\n",
    "'Nevada': '32',\n",
    "'New Hampshire': '33',\n",
    "'New Jersey': '34',\n",
    "'New Mexico': '35',\n",
    "'New York': '36',\n",
    "'North Carolina': '37',\n",
    "'North Dakota': '38',\n",
    "'Ohio': '39',\n",
    "'Oklahoma': '40',\n",
    "'Oregon': '41',\n",
    "'Pennsylvania': '42',\n",
    "'Rhode Island': '44',\n",
    "'South Carolina': '45',\n",
    "'South Dakota': '46',\n",
    "'Tennessee': '47',\n",
    "'Texas': '48',\n",
    "'Utah': '49',\n",
    "'Vermont': '50',\n",
    "'Virginia': '51',\n",
    "'Washington': '53',\n",
    "'West Virginia': '54',\n",
    "'Wisconsin': '55',\n",
    "'Wyoming': '56'\n",
    "}"
   ]
  },
  {
   "cell_type": "code",
   "execution_count": 7,
   "metadata": {
    "tags": []
   },
   "outputs": [
    {
     "output_type": "stream",
     "name": "stdout",
     "text": [
      "{'currency': 'usd', 'name': 'Alabama', 'gasoline': '1.905', 'midGrade': '2.237', 'premium': '2.567', 'diesel': '2.239', 'id': '01'}\n{'currency': 'usd', 'name': 'Alaska', 'gasoline': '2.510', 'midGrade': '2.641', 'premium': '2.810', 'diesel': '2.403', 'id': '02'}\n{'currency': 'usd', 'name': 'Arizona', 'gasoline': '2.264', 'midGrade': '2.553', 'premium': '2.798', 'diesel': '2.416', 'id': '04'}\n{'currency': 'usd', 'name': 'Arkansas', 'gasoline': '1.881', 'midGrade': '2.185', 'premium': '2.483', 'diesel': '2.134', 'id': '05'}\n{'currency': 'usd', 'name': 'California', 'gasoline': '3.197', 'midGrade': '3.382', 'premium': '3.502', 'diesel': '3.339', 'id': '06'}\n{'currency': 'usd', 'name': 'Colorado', 'gasoline': '2.247', 'midGrade': '2.560', 'premium': '2.842', 'diesel': '2.178', 'id': '08'}\n{'currency': 'usd', 'name': 'Connecticut', 'gasoline': '2.178', 'midGrade': '2.540', 'premium': '2.766', 'diesel': '2.686', 'id': '09'}\n{'currency': 'usd', 'name': 'Delaware', 'gasoline': '2.318', 'midGrade': '2.716', 'premium': '2.942', 'diesel': '2.314', 'id': '10'}\n{'currency': 'usd', 'name': 'District of Columbia', 'gasoline': '2.358', 'midGrade': '2.863', 'premium': '2.995', 'diesel': '2.823', 'id': '11'}\n{'currency': 'usd', 'name': 'Florida', 'gasoline': '2.129', 'midGrade': '2.485', 'premium': '2.778', 'diesel': '2.314', 'id': '12'}\n{'currency': 'usd', 'name': 'Georgia', 'gasoline': '2.005', 'midGrade': '2.344', 'premium': '2.653', 'diesel': '2.429', 'id': '13'}\n{'currency': 'usd', 'name': 'Hawaii', 'gasoline': '3.271', 'midGrade': '3.454', 'premium': '3.659', 'diesel': '4.043', 'id': '15'}\n{'currency': 'usd', 'name': 'Idaho', 'gasoline': '2.366', 'midGrade': '2.529', 'premium': '2.718', 'diesel': '2.349', 'id': '16'}\n{'currency': 'usd', 'name': 'Illinois', 'gasoline': '2.260', 'midGrade': '2.606', 'premium': '3.005', 'diesel': '2.384', 'id': '17'}\n{'currency': 'usd', 'name': 'Indiana', 'gasoline': '2.074', 'midGrade': '2.400', 'premium': '2.723', 'diesel': '2.426', 'id': '18'}\n{'currency': 'usd', 'name': 'Iowa', 'gasoline': '2.055', 'midGrade': '2.226', 'premium': '2.593', 'diesel': '2.181', 'id': '19'}\n{'currency': 'usd', 'name': 'Kansas', 'gasoline': '1.945', 'midGrade': '2.203', 'premium': '2.433', 'diesel': '2.107', 'id': '20'}\n{'currency': 'usd', 'name': 'Kentucky', 'gasoline': '1.960', 'midGrade': '2.291', 'premium': '2.599', 'diesel': '2.222', 'id': '21'}\n{'currency': 'usd', 'name': 'Louisiana', 'gasoline': '1.903', 'midGrade': '2.219', 'premium': '2.528', 'diesel': '2.206', 'id': '22'}\n{'currency': 'usd', 'name': 'Maine', 'gasoline': '2.173', 'midGrade': '2.492', 'premium': '2.752', 'diesel': '2.490', 'id': '23'}\n{'currency': 'usd', 'name': 'Maryland', 'gasoline': '2.309', 'midGrade': '2.746', 'premium': '2.987', 'diesel': '2.412', 'id': '24'}\n{'currency': 'usd', 'name': 'Massachusetts', 'gasoline': '2.112', 'midGrade': '2.467', 'premium': '2.682', 'diesel': '2.557', 'id': '25'}\n{'currency': 'usd', 'name': 'Michigan', 'gasoline': '2.067', 'midGrade': '2.394', 'premium': '2.730', 'diesel': '2.372', 'id': '26'}\n{'currency': 'usd', 'name': 'Minnesota', 'gasoline': '2.009', 'midGrade': '2.247', 'premium': '2.550', 'diesel': '2.300', 'id': '27'}\n{'currency': 'usd', 'name': 'Mississippi', 'gasoline': '1.852', 'midGrade': '2.159', 'premium': '2.486', 'diesel': '2.074', 'id': '28'}\n{'currency': 'usd', 'name': 'Missouri', 'gasoline': '1.854', 'midGrade': '2.108', 'premium': '2.373', 'diesel': '1.992', 'id': '29'}\n{'currency': 'usd', 'name': 'Montana', 'gasoline': '2.246', 'midGrade': '2.506', 'premium': '2.756', 'diesel': '2.256', 'id': '30'}\n{'currency': 'usd', 'name': 'Nebraska', 'gasoline': '2.131', 'midGrade': '2.257', 'premium': '2.580', 'diesel': '2.190', 'id': '31'}\n{'currency': 'usd', 'name': 'Nevada', 'gasoline': '2.634', 'midGrade': '2.845', 'premium': '3.025', 'diesel': '2.588', 'id': '32'}\n{'currency': 'usd', 'name': 'New Hampshire', 'gasoline': '2.071', 'midGrade': '2.452', 'premium': '2.721', 'diesel': '2.473', 'id': '33'}\n{'currency': 'usd', 'name': 'New Jersey', 'gasoline': '2.247', 'midGrade': '2.621', 'premium': '2.807', 'diesel': '2.520', 'id': '34'}\n{'currency': 'usd', 'name': 'New Mexico', 'gasoline': '2.027', 'midGrade': '2.343', 'premium': '2.588', 'diesel': '2.289', 'id': '35'}\n{'currency': 'usd', 'name': 'New York', 'gasoline': '2.252', 'midGrade': '2.582', 'premium': '2.812', 'diesel': '2.778', 'id': '36'}\n{'currency': 'usd', 'name': 'North Carolina', 'gasoline': '2.016', 'midGrade': '2.356', 'premium': '2.686', 'diesel': '2.300', 'id': '37'}\n{'currency': 'usd', 'name': 'North Dakota', 'gasoline': '2.074', 'midGrade': '2.290', 'premium': '2.484', 'diesel': '2.178', 'id': '38'}\n{'currency': 'usd', 'name': 'Ohio', 'gasoline': '2.030', 'midGrade': '2.366', 'premium': '2.699', 'diesel': '2.382', 'id': '39'}\n{'currency': 'usd', 'name': 'Oklahoma', 'gasoline': '1.887', 'midGrade': '2.135', 'premium': '2.340', 'diesel': '1.990', 'id': '40'}\n{'currency': 'usd', 'name': 'Oregon', 'gasoline': '2.591', 'midGrade': '2.785', 'premium': '2.961', 'diesel': '2.578', 'id': '41'}\n{'currency': 'usd', 'name': 'Pennsylvania', 'gasoline': '2.486', 'midGrade': '2.799', 'premium': '3.073', 'diesel': '2.749', 'id': '42'}\n{'currency': 'usd', 'name': 'Rhode Island', 'gasoline': '2.127', 'midGrade': '2.549', 'premium': '2.740', 'diesel': '2.629', 'id': '44'}\n{'currency': 'usd', 'name': 'South Carolina', 'gasoline': '1.918', 'midGrade': '2.250', 'premium': '2.567', 'diesel': '2.152', 'id': '45'}\n{'currency': 'usd', 'name': 'South Dakota', 'gasoline': '2.114', 'midGrade': '2.233', 'premium': '2.544', 'diesel': '2.221', 'id': '46'}\n{'currency': 'usd', 'name': 'Tennessee', 'gasoline': '1.936', 'midGrade': '2.275', 'premium': '2.601', 'diesel': '2.278', 'id': '47'}\n{'currency': 'usd', 'name': 'Texas', 'gasoline': '1.861', 'midGrade': '2.194', 'premium': '2.478', 'diesel': '2.019', 'id': '48'}\n{'currency': 'usd', 'name': 'Utah', 'gasoline': '2.404', 'midGrade': '2.572', 'premium': '2.736', 'diesel': '2.359', 'id': '49'}\n{'currency': 'usd', 'name': 'Vermont', 'gasoline': '2.153', 'midGrade': '2.485', 'premium': '2.764', 'diesel': '2.497', 'id': '50'}\n{'currency': 'usd', 'name': 'Virginia', 'gasoline': '2.081', 'midGrade': '2.464', 'premium': '2.755', 'diesel': '2.330', 'id': '51'}\n{'currency': 'usd', 'name': 'Washington', 'gasoline': '2.778', 'midGrade': '2.997', 'premium': '3.164', 'diesel': '2.707', 'id': '53'}\n{'currency': 'usd', 'name': 'West Virginia', 'gasoline': '2.199', 'midGrade': '2.480', 'premium': '2.768', 'diesel': '2.371', 'id': '54'}\n{'currency': 'usd', 'name': 'Wisconsin', 'gasoline': '1.975', 'midGrade': '2.317', 'premium': '2.700', 'diesel': '2.116', 'id': '55'}\n{'currency': 'usd', 'name': 'Wyoming', 'gasoline': '2.205', 'midGrade': '2.422', 'premium': '2.652', 'diesel': '2.347', 'id': '56'}\n"
     ]
    }
   ],
   "source": [
    "# #Testing to see if the id state works\n",
    "gasPriceState_data = sorted(gasPriceState_data, key = lambda i: i['name'])\n",
    "    \n",
    "for gasDict, state_id in zip(gasPriceState_data, States_fipsId.values()):\n",
    "    gasDict['id'] = state_id\n",
    "    print(gasDict)\n",
    "\n",
    "with open('../static/data/gasPriceState.json', 'w') as fp:\n",
    "    json.dump(gasPriceState_data, fp)"
   ]
  },
  {
   "cell_type": "code",
   "execution_count": null,
   "metadata": {},
   "outputs": [],
   "source": []
  },
  {
   "cell_type": "code",
   "execution_count": null,
   "metadata": {},
   "outputs": [],
   "source": []
  }
 ],
 "metadata": {
  "kernelspec": {
   "display_name": "Python 3",
   "language": "python",
   "name": "python3"
  },
  "language_info": {
   "codemirror_mode": {
    "name": "ipython",
    "version": 3
   },
   "file_extension": ".py",
   "mimetype": "text/x-python",
   "name": "python",
   "nbconvert_exporter": "python",
   "pygments_lexer": "ipython3",
   "version": "3.7.7-final"
  }
 },
 "nbformat": 4,
 "nbformat_minor": 4
}