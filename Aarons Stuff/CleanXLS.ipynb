{
 "metadata": {
  "language_info": {
   "codemirror_mode": {
    "name": "ipython",
    "version": 3
   },
   "file_extension": ".py",
   "mimetype": "text/x-python",
   "name": "python",
   "nbconvert_exporter": "python",
   "pygments_lexer": "ipython3",
   "version": "3.7.6-final"
  },
  "orig_nbformat": 2,
  "kernelspec": {
   "name": "Python 3.7.6 64-bit ('base': conda)",
   "display_name": "Python 3.7.6 64-bit ('base': conda)",
   "metadata": {
    "interpreter": {
     "hash": "91c903a029a8949b2bcf1df2d9a3a4f452318ee8762d293d9b970120247642e6"
    }
   }
  }
 },
 "nbformat": 4,
 "nbformat_minor": 2,
 "cells": [
  {
   "cell_type": "code",
   "execution_count": 4,
   "metadata": {},
   "outputs": [
    {
     "output_type": "execute_result",
     "data": {
      "text/plain": [
       "           Date  New_England_Prices  Central_Atlantic_Prices  \\\n",
       "314  1998-05-18               1.078                    1.074   \n",
       "315  1998-05-25               1.084                    1.077   \n",
       "316  1998-06-01               1.083                    1.077   \n",
       "317  1998-06-08               1.084                    1.078   \n",
       "318  1998-06-15               1.085                    1.074   \n",
       "...         ...                 ...                      ...   \n",
       "1478 2020-09-07               2.151                    2.308   \n",
       "1479 2020-09-14               2.130                    2.285   \n",
       "1480 2020-09-21               2.124                    2.263   \n",
       "1481 2020-09-28               2.114                    2.257   \n",
       "1482 2020-10-05               2.101                    2.270   \n",
       "\n",
       "      Lower_Atlantic_Prices  Midwest_Prices  Gulf_Coast_Prices  \\\n",
       "314                   0.992           1.081              1.002   \n",
       "315                   0.993           1.075              0.998   \n",
       "316                   0.992           1.067              1.001   \n",
       "317                   0.992           1.090              1.000   \n",
       "318                   0.985           1.070              1.001   \n",
       "...                     ...             ...                ...   \n",
       "1478                  2.085           2.066              1.890   \n",
       "1479                  2.050           2.027              1.857   \n",
       "1480                  2.019           2.034              1.838   \n",
       "1481                  2.016           2.059              1.836   \n",
       "1482                  2.052           2.049              1.827   \n",
       "\n",
       "      Rocky_Mountain_Prices  West_Coast_Prices  West_Coast_No_Cali_Prices  \\\n",
       "314                   1.127              1.205                      1.162   \n",
       "315                   1.122              1.209                      1.170   \n",
       "316                   1.115              1.202                      1.166   \n",
       "317                   1.169              1.192                      1.162   \n",
       "318                   1.156              1.190                      1.160   \n",
       "...                     ...                ...                        ...   \n",
       "1478                  2.345              2.858                      2.572   \n",
       "1479                  2.329              2.855                      2.568   \n",
       "1480                  2.314              2.836                      2.546   \n",
       "1481                  2.296              2.817                      2.530   \n",
       "1482                  2.274              2.807                      2.513   \n",
       "\n",
       "      Year Month  \n",
       "314   1998   May  \n",
       "315   1998   May  \n",
       "316   1998   Jun  \n",
       "317   1998   Jun  \n",
       "318   1998   Jun  \n",
       "...    ...   ...  \n",
       "1478  2020   Sep  \n",
       "1479  2020   Sep  \n",
       "1480  2020   Sep  \n",
       "1481  2020   Sep  \n",
       "1482  2020   Oct  \n",
       "\n",
       "[1169 rows x 11 columns]"
      ],
      "text/html": "<div>\n<style scoped>\n    .dataframe tbody tr th:only-of-type {\n        vertical-align: middle;\n    }\n\n    .dataframe tbody tr th {\n        vertical-align: top;\n    }\n\n    .dataframe thead th {\n        text-align: right;\n    }\n</style>\n<table border=\"1\" class=\"dataframe\">\n  <thead>\n    <tr style=\"text-align: right;\">\n      <th></th>\n      <th>Date</th>\n      <th>New_England_Prices</th>\n      <th>Central_Atlantic_Prices</th>\n      <th>Lower_Atlantic_Prices</th>\n      <th>Midwest_Prices</th>\n      <th>Gulf_Coast_Prices</th>\n      <th>Rocky_Mountain_Prices</th>\n      <th>West_Coast_Prices</th>\n      <th>West_Coast_No_Cali_Prices</th>\n      <th>Year</th>\n      <th>Month</th>\n    </tr>\n  </thead>\n  <tbody>\n    <tr>\n      <th>314</th>\n      <td>1998-05-18</td>\n      <td>1.078</td>\n      <td>1.074</td>\n      <td>0.992</td>\n      <td>1.081</td>\n      <td>1.002</td>\n      <td>1.127</td>\n      <td>1.205</td>\n      <td>1.162</td>\n      <td>1998</td>\n      <td>May</td>\n    </tr>\n    <tr>\n      <th>315</th>\n      <td>1998-05-25</td>\n      <td>1.084</td>\n      <td>1.077</td>\n      <td>0.993</td>\n      <td>1.075</td>\n      <td>0.998</td>\n      <td>1.122</td>\n      <td>1.209</td>\n      <td>1.170</td>\n      <td>1998</td>\n      <td>May</td>\n    </tr>\n    <tr>\n      <th>316</th>\n      <td>1998-06-01</td>\n      <td>1.083</td>\n      <td>1.077</td>\n      <td>0.992</td>\n      <td>1.067</td>\n      <td>1.001</td>\n      <td>1.115</td>\n      <td>1.202</td>\n      <td>1.166</td>\n      <td>1998</td>\n      <td>Jun</td>\n    </tr>\n    <tr>\n      <th>317</th>\n      <td>1998-06-08</td>\n      <td>1.084</td>\n      <td>1.078</td>\n      <td>0.992</td>\n      <td>1.090</td>\n      <td>1.000</td>\n      <td>1.169</td>\n      <td>1.192</td>\n      <td>1.162</td>\n      <td>1998</td>\n      <td>Jun</td>\n    </tr>\n    <tr>\n      <th>318</th>\n      <td>1998-06-15</td>\n      <td>1.085</td>\n      <td>1.074</td>\n      <td>0.985</td>\n      <td>1.070</td>\n      <td>1.001</td>\n      <td>1.156</td>\n      <td>1.190</td>\n      <td>1.160</td>\n      <td>1998</td>\n      <td>Jun</td>\n    </tr>\n    <tr>\n      <th>...</th>\n      <td>...</td>\n      <td>...</td>\n      <td>...</td>\n      <td>...</td>\n      <td>...</td>\n      <td>...</td>\n      <td>...</td>\n      <td>...</td>\n      <td>...</td>\n      <td>...</td>\n      <td>...</td>\n    </tr>\n    <tr>\n      <th>1478</th>\n      <td>2020-09-07</td>\n      <td>2.151</td>\n      <td>2.308</td>\n      <td>2.085</td>\n      <td>2.066</td>\n      <td>1.890</td>\n      <td>2.345</td>\n      <td>2.858</td>\n      <td>2.572</td>\n      <td>2020</td>\n      <td>Sep</td>\n    </tr>\n    <tr>\n      <th>1479</th>\n      <td>2020-09-14</td>\n      <td>2.130</td>\n      <td>2.285</td>\n      <td>2.050</td>\n      <td>2.027</td>\n      <td>1.857</td>\n      <td>2.329</td>\n      <td>2.855</td>\n      <td>2.568</td>\n      <td>2020</td>\n      <td>Sep</td>\n    </tr>\n    <tr>\n      <th>1480</th>\n      <td>2020-09-21</td>\n      <td>2.124</td>\n      <td>2.263</td>\n      <td>2.019</td>\n      <td>2.034</td>\n      <td>1.838</td>\n      <td>2.314</td>\n      <td>2.836</td>\n      <td>2.546</td>\n      <td>2020</td>\n      <td>Sep</td>\n    </tr>\n    <tr>\n      <th>1481</th>\n      <td>2020-09-28</td>\n      <td>2.114</td>\n      <td>2.257</td>\n      <td>2.016</td>\n      <td>2.059</td>\n      <td>1.836</td>\n      <td>2.296</td>\n      <td>2.817</td>\n      <td>2.530</td>\n      <td>2020</td>\n      <td>Sep</td>\n    </tr>\n    <tr>\n      <th>1482</th>\n      <td>2020-10-05</td>\n      <td>2.101</td>\n      <td>2.270</td>\n      <td>2.052</td>\n      <td>2.049</td>\n      <td>1.827</td>\n      <td>2.274</td>\n      <td>2.807</td>\n      <td>2.513</td>\n      <td>2020</td>\n      <td>Oct</td>\n    </tr>\n  </tbody>\n</table>\n<p>1169 rows × 11 columns</p>\n</div>"
     },
     "metadata": {},
     "execution_count": 4
    }
   ],
   "source": [
    "import pandas as pd\n",
    "import calendar\n",
    "df = pd.read_excel(r'Historical Gas Prices.xls', sheet_name='Data 2', header=2)\n",
    "df.drop(df.columns[1],inplace=True,axis=1)\n",
    "df.dropna(axis=0, how=\"any\", inplace=True)\n",
    "df[\"Year\"] = df[\"Date\"].dt.strftime('%Y')\n",
    "df[\"Month\"] = df[\"Date\"].dt.strftime('%b')\n",
    "df.rename(columns={df.columns[1]: \"New_England_Prices\",df.columns[2]: \"Central_Atlantic_Prices\",df.columns[3]: \"Lower_Atlantic_Prices\",df.columns[4]: \"Midwest_Prices\",df.columns[5]: \"Gulf_Coast_Prices\",df.columns[6]: \"Rocky_Mountain_Prices\",df.columns[7]: \"West_Coast_Prices\",df.columns[8]: \"West_Coast_No_Cali_Prices\"}, inplace=True)\n",
    "df"
   ]
  },
  {
   "cell_type": "code",
   "execution_count": 5,
   "metadata": {},
   "outputs": [],
   "source": [
    "df.to_csv('CleanHistGasPrices.csv', index=False)"
   ]
  },
  {
   "cell_type": "code",
   "execution_count": null,
   "metadata": {},
   "outputs": [],
   "source": []
  }
 ]
}