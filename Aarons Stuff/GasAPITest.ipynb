{
 "cells": [
  {
   "cell_type": "code",
   "execution_count": 1,
   "metadata": {},
   "outputs": [],
   "source": [
    "apikey = \"60NpjP2khNX0u5YCngWVa8:3q7xw9Ij4XoszUMayKd6lk\"\n",
    "#don't steal my apikey pls"
   ]
  },
  {
   "cell_type": "code",
   "execution_count": 2,
   "metadata": {},
   "outputs": [
    {
     "output_type": "execute_result",
     "data": {
      "text/plain": "{'error_code': 401, 'error_msg': 'API key not found.'}"
     },
     "metadata": {},
     "execution_count": 2
    }
   ],
   "source": [
    "#Zip API stuff\n",
    "import requests\n",
    "zipapi = \"HsxmB91H1DKVdsgQxRsMURFd7mLK9VvzXRRXjBKGLxPjf7lBLloaRFdKdT7mSXbU\"\n",
    "zipcode = \"31402\"\n",
    "zipurl = f\"https://www.zipcodeapi.com/rest/{zipapi}/info.json/{zipcode}/degrees\"\n",
    "\n",
    "response = requests.get(zipurl).json()\n",
    "response"
   ]
  },
  {
   "cell_type": "code",
   "execution_count": 3,
   "metadata": {},
   "outputs": [
    {
     "output_type": "error",
     "ename": "KeyError",
     "evalue": "'lng'",
     "traceback": [
      "\u001b[0;31m---------------------------------------------------------------------------\u001b[0m",
      "\u001b[0;31mKeyError\u001b[0m                                  Traceback (most recent call last)",
      "\u001b[0;32m<ipython-input-3-f3b673ffba16>\u001b[0m in \u001b[0;36m<module>\u001b[0;34m\u001b[0m\n\u001b[1;32m      9\u001b[0m     }\n\u001b[1;32m     10\u001b[0m \u001b[0;34m\u001b[0m\u001b[0m\n\u001b[0;32m---> 11\u001b[0;31m \u001b[0mcollecturl\u001b[0m \u001b[0;34m=\u001b[0m \u001b[0;34mf\"/gasPrice/fromCoordinates?lng={response['lng']}&lat={response['lat']}\"\u001b[0m\u001b[0;34m\u001b[0m\u001b[0;34m\u001b[0m\u001b[0m\n\u001b[0m\u001b[1;32m     12\u001b[0m \u001b[0mcollecturl\u001b[0m\u001b[0;34m\u001b[0m\u001b[0;34m\u001b[0m\u001b[0m\n",
      "\u001b[0;31mKeyError\u001b[0m: 'lng'"
     ]
    }
   ],
   "source": [
    "#Collect API aka Gas Prices \n",
    "import http.client\n",
    "\n",
    "conn = http.client.HTTPSConnection(\"api.collectapi.com\")\n",
    "\n",
    "headers = {\n",
    "    'content-type': \"application/json\",\n",
    "    'authorization': \"apikey 60NpjP2khNX0u5YCngWVa8:3q7xw9Ij4XoszUMayKd6lk\"\n",
    "    }\n",
    "\n",
    "collecturl = f\"/gasPrice/fromCoordinates?lng={response['lng']}&lat={response['lat']}\"\n",
    "collecturl"
   ]
  },
  {
   "cell_type": "code",
   "execution_count": 4,
   "metadata": {},
   "outputs": [
    {
     "output_type": "error",
     "ename": "NameError",
     "evalue": "name 'collecturl' is not defined",
     "traceback": [
      "\u001b[0;31m---------------------------------------------------------------------------\u001b[0m",
      "\u001b[0;31mNameError\u001b[0m                                 Traceback (most recent call last)",
      "\u001b[0;32m<ipython-input-4-6efee4d922f2>\u001b[0m in \u001b[0;36m<module>\u001b[0;34m\u001b[0m\n\u001b[0;32m----> 1\u001b[0;31m \u001b[0mconn\u001b[0m\u001b[0;34m.\u001b[0m\u001b[0mrequest\u001b[0m\u001b[0;34m(\u001b[0m\u001b[0;34m\"GET\"\u001b[0m\u001b[0;34m,\u001b[0m \u001b[0mcollecturl\u001b[0m\u001b[0;34m,\u001b[0m \u001b[0mheaders\u001b[0m\u001b[0;34m=\u001b[0m\u001b[0mheaders\u001b[0m\u001b[0;34m)\u001b[0m\u001b[0;34m\u001b[0m\u001b[0;34m\u001b[0m\u001b[0m\n\u001b[0m\u001b[1;32m      2\u001b[0m \u001b[0;34m\u001b[0m\u001b[0m\n\u001b[1;32m      3\u001b[0m \u001b[0mres\u001b[0m \u001b[0;34m=\u001b[0m \u001b[0mconn\u001b[0m\u001b[0;34m.\u001b[0m\u001b[0mgetresponse\u001b[0m\u001b[0;34m(\u001b[0m\u001b[0;34m)\u001b[0m\u001b[0;34m\u001b[0m\u001b[0;34m\u001b[0m\u001b[0m\n\u001b[1;32m      4\u001b[0m \u001b[0mdata\u001b[0m \u001b[0;34m=\u001b[0m \u001b[0mres\u001b[0m\u001b[0;34m.\u001b[0m\u001b[0mread\u001b[0m\u001b[0;34m(\u001b[0m\u001b[0;34m)\u001b[0m\u001b[0;34m\u001b[0m\u001b[0;34m\u001b[0m\u001b[0m\n\u001b[1;32m      5\u001b[0m \u001b[0;34m\u001b[0m\u001b[0m\n",
      "\u001b[0;31mNameError\u001b[0m: name 'collecturl' is not defined"
     ]
    }
   ],
   "source": [
    "conn.request(\"GET\", collecturl, headers=headers)\n",
    "\n",
    "res = conn.getresponse()\n",
    "data = res.read()\n",
    "\n",
    "print(data.decode(\"utf-8\"))"
   ]
  },
  {
   "cell_type": "code",
   "execution_count": 37,
   "metadata": {},
   "outputs": [
    {
     "data": {
      "text/plain": [
       "{'zip_code': '31402',\n",
       " 'lat': 32.080022,\n",
       " 'lng': -81.099884,\n",
       " 'city': 'Savannah',\n",
       " 'state': 'GA',\n",
       " 'timezone': {'timezone_identifier': 'America/New_York',\n",
       "  'timezone_abbr': 'EDT',\n",
       "  'utc_offset_sec': -14400,\n",
       "  'is_dst': 'T'},\n",
       " 'acceptable_city_names': [],\n",
       " 'area_codes': [912]}"
      ]
     },
     "execution_count": 37,
     "metadata": {},
     "output_type": "execute_result"
    }
   ],
   "source": [
    "\n"
   ]
  },
  {
   "cell_type": "code",
   "execution_count": 19,
   "metadata": {},
   "outputs": [
    {
     "data": {
      "text/plain": [
       "'https://fuel-v2.cc.api.here.com/fuel/stations?app_id=59gWC76HSpruqisCNGWQ&app_code=bZowSaoUYO_tv1gKnmVexzMezQ6vLWpOeZ2gJZG8kG4&prox=33.748995,84.387982,8000&fueltype=2'"
      ]
     },
     "execution_count": 19,
     "metadata": {},
     "output_type": "execute_result"
    }
   ],
   "source": [
    "#I think this works with JS but IDK\n",
    "\n",
    "#baseurl = \"https://fuel-v2.cc.api.here.com/fuel/stations\"\n",
    "\n",
    "#appid = \"59gWC76HSpruqisCNGWQ\"\n",
    "#appcode = \"bZowSaoUYO_tv1gKnmVexzMezQ6vLWpOeZ2gJZG8kG4\"\n",
    "\n",
    "#lat = \"33.748995\"\n",
    "#lon = \"84.387982\"\n",
    "\n",
    "#query = f\"{baseurl}?app_id={appid}&app_code={appcode}&prox={lat},{lon},8000&fueltype=2.json\"\n",
    "#query"
   ]
  },
  {
   "cell_type": "code",
   "execution_count": 24,
   "metadata": {},
   "outputs": [
    {
     "data": {
      "text/plain": [
       "<Response [401]>"
      ]
     },
     "execution_count": 24,
     "metadata": {},
     "output_type": "execute_result"
    }
   ],
   "source": [
    "#response = requests.get(query)\n",
    "#response"
   ]
  },
  {
   "cell_type": "code",
   "execution_count": null,
   "metadata": {},
   "outputs": [],
   "source": []
  }
 ],
 "metadata": {
  "kernelspec": {
   "display_name": "Python 3",
   "language": "python",
   "name": "python3"
  },
  "language_info": {
   "codemirror_mode": {
    "name": "ipython",
    "version": 3
   },
   "file_extension": ".py",
   "mimetype": "text/x-python",
   "name": "python",
   "nbconvert_exporter": "python",
   "pygments_lexer": "ipython3",
   "version": "3.7.7"
  }
 },
 "nbformat": 4,
 "nbformat_minor": 4
}