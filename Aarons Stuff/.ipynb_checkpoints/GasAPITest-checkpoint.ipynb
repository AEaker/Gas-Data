{
 "metadata": {
  "language_info": {
   "codemirror_mode": {
    "name": "ipython",
    "version": 3
   },
   "file_extension": ".py",
   "mimetype": "text/x-python",
   "name": "python",
   "nbconvert_exporter": "python",
   "pygments_lexer": "ipython3",
   "version": "3.7.6-final"
  },
  "orig_nbformat": 2,
  "kernelspec": {
   "name": "Python 3.7.6 64-bit ('base': conda)",
   "display_name": "Python 3.7.6 64-bit ('base': conda)",
   "metadata": {
    "interpreter": {
     "hash": "91c903a029a8949b2bcf1df2d9a3a4f452318ee8762d293d9b970120247642e6"
    }
   }
  }
 },
 "nbformat": 4,
 "nbformat_minor": 2,
 "cells": [
  {
   "cell_type": "code",
   "execution_count": 2,
   "metadata": {},
   "outputs": [],
   "source": [
    "apikey = \"60NpjP2khNX0u5YCngWVa8:3q7xw9Ij4XoszUMayKd6lk\"\n",
    "#don't steal my apikey pls"
   ]
  },
  {
   "cell_type": "code",
   "execution_count": 3,
   "metadata": {},
   "outputs": [
    {
     "output_type": "execute_result",
     "data": {
      "text/plain": [
       "{'zip_code': '31402',\n",
       " 'lat': 32.080022,\n",
       " 'lng': -81.099884,\n",
       " 'city': 'Savannah',\n",
       " 'state': 'GA',\n",
       " 'timezone': {'timezone_identifier': 'America/New_York',\n",
       "  'timezone_abbr': 'EDT',\n",
       "  'utc_offset_sec': -14400,\n",
       "  'is_dst': 'T'},\n",
       " 'acceptable_city_names': [],\n",
       " 'area_codes': [912]}"
      ]
     },
     "metadata": {},
     "execution_count": 3
    }
   ],
   "source": [
    "#Zip API stuff\n",
    "import requests\n",
    "zipapi = \"HsxmB91H1DKVdsgQxRsMURFd7mLK9VvzXRRXjBKGLxPjf7lBLloaRFdKdT7mSXbU\"\n",
    "zipcode = \"31402\"\n",
    "zipurl = f\"https://www.zipcodeapi.com/rest/{zipapi}/info.json/{zipcode}/degrees\"\n",
    "\n",
    "response = requests.get(zipurl).json()\n",
    "response"
   ]
  },
  {
   "cell_type": "code",
   "execution_count": 4,
   "metadata": {},
   "outputs": [
    {
     "output_type": "execute_result",
     "data": {
      "text/plain": [
       "'/gasPrice/fromCoordinates?lng=-81.099884&lat=32.080022'"
      ]
     },
     "metadata": {},
     "execution_count": 4
    }
   ],
   "source": [
    "#Collect API aka Gas Prices \n",
    "import http.client\n",
    "\n",
    "conn = http.client.HTTPSConnection(\"api.collectapi.com\")\n",
    "\n",
    "headers = {\n",
    "    'content-type': \"application/json\",\n",
    "    'authorization': \"apikey 60NpjP2khNX0u5YCngWVa8:3q7xw9Ij4XoszUMayKd6lk\"\n",
    "    }\n",
    "\n",
    "collecturl = f\"/gasPrice/fromCoordinates?lng={response['lng']}&lat={response['lat']}\"\n",
    "collecturl"
   ]
  },
  {
   "cell_type": "code",
   "execution_count": 6,
   "metadata": {},
   "outputs": [
    {
     "output_type": "stream",
     "name": "stdout",
     "text": [
      "{\"success\":true,\"result\":{\"currency\":\"usd\",\"gasoline\":\"2.086\",\"midGrade\":\"2.457\",\"premium\":\"2.783\",\"diesel\":\"2.393\",\"name\":\"Savannah\",\"lowerName\":\"savannah\"}}\n"
     ]
    }
   ],
   "source": [
    "conn.request(\"GET\", collecturl, headers=headers)\n",
    "\n",
    "res = conn.getresponse()\n",
    "data = res.read()\n",
    "\n",
    "print(data.decode(\"utf-8\"))"
   ]
  },
  {
   "cell_type": "code",
   "execution_count": 37,
   "metadata": {},
   "outputs": [
    {
     "output_type": "execute_result",
     "data": {
      "text/plain": [
       "{'zip_code': '31402',\n",
       " 'lat': 32.080022,\n",
       " 'lng': -81.099884,\n",
       " 'city': 'Savannah',\n",
       " 'state': 'GA',\n",
       " 'timezone': {'timezone_identifier': 'America/New_York',\n",
       "  'timezone_abbr': 'EDT',\n",
       "  'utc_offset_sec': -14400,\n",
       "  'is_dst': 'T'},\n",
       " 'acceptable_city_names': [],\n",
       " 'area_codes': [912]}"
      ]
     },
     "metadata": {},
     "execution_count": 37
    }
   ],
   "source": [
    "\n"
   ]
  },
  {
   "cell_type": "code",
   "execution_count": 19,
   "metadata": {},
   "outputs": [
    {
     "output_type": "execute_result",
     "data": {
      "text/plain": [
       "'https://fuel-v2.cc.api.here.com/fuel/stations?app_id=59gWC76HSpruqisCNGWQ&app_code=bZowSaoUYO_tv1gKnmVexzMezQ6vLWpOeZ2gJZG8kG4&prox=33.748995,84.387982,8000&fueltype=2'"
      ]
     },
     "metadata": {},
     "execution_count": 19
    }
   ],
   "source": [
    "#I think this works with JS but IDK\n",
    "\n",
    "#baseurl = \"https://fuel-v2.cc.api.here.com/fuel/stations\"\n",
    "\n",
    "#appid = \"59gWC76HSpruqisCNGWQ\"\n",
    "#appcode = \"bZowSaoUYO_tv1gKnmVexzMezQ6vLWpOeZ2gJZG8kG4\"\n",
    "\n",
    "#lat = \"33.748995\"\n",
    "#lon = \"84.387982\"\n",
    "\n",
    "#query = f\"{baseurl}?app_id={appid}&app_code={appcode}&prox={lat},{lon},8000&fueltype=2.json\"\n",
    "#query"
   ]
  },
  {
   "cell_type": "code",
   "execution_count": 24,
   "metadata": {},
   "outputs": [
    {
     "output_type": "execute_result",
     "data": {
      "text/plain": [
       "<Response [401]>"
      ]
     },
     "metadata": {},
     "execution_count": 24
    }
   ],
   "source": [
    "#response = requests.get(query)\n",
    "#response"
   ]
  },
  {
   "cell_type": "code",
   "execution_count": null,
   "metadata": {},
   "outputs": [],
   "source": []
  }
 ]
}